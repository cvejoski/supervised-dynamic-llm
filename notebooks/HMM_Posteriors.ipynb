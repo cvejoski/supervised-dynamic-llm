{
 "cells": [
  {
   "cell_type": "code",
   "execution_count": 1,
   "id": "9b0aa05b",
   "metadata": {},
   "outputs": [],
   "source": [
    "from supervisedllm.data.dataloaders import TopicDataLoader\n",
    "from supervisedllm.models.deep_state_space import q_INDEP\n",
    "from supervisedllm import data_path\n",
    "import torch"
   ]
  },
  {
   "cell_type": "code",
   "execution_count": null,
   "id": "60f18781",
   "metadata": {},
   "outputs": [],
   "source": [
    "data_dir = data_path / \"preprocessed\" / \"arxiv\"\n",
    "dataloader_params = {\"root_dir\": data_dir, \"batch_size\": 32 ,\"is_dynamic\":True}\n",
    "data_loader = TopicDataLoader(\"cpu\", **dataloader_params)\n",
    "databatch = next(data_loader.train.__iter__())"
   ]
  },
  {
   "cell_type": "code",
   "execution_count": null,
   "id": "06fbbae4",
   "metadata": {},
   "outputs": [],
   "source": [
    "recognition_parameters = q_INDEP.get_parameters()\n",
    "recognition_parameters.update({\"observable_dim\":data_loader.vocabulary_dim})\n",
    "recognition_parameters"
   ]
  },
  {
   "cell_type": "code",
   "execution_count": null,
   "id": "1f38186d",
   "metadata": {},
   "outputs": [],
   "source": [
    "q = q_INDEP(**recognition_parameters)"
   ]
  },
  {
   "cell_type": "code",
   "execution_count": null,
   "id": "55d9e939",
   "metadata": {},
   "outputs": [],
   "source": [
    "corpus = databatch[\"corpus\"]"
   ]
  },
  {
   "cell_type": "code",
   "execution_count": null,
   "id": "00de1929",
   "metadata": {},
   "outputs": [],
   "source": [
    "q(corpus.view(batch_size * seq_length, -1).to(torch.float32)to(torch.float32))"
   ]
  },
  {
   "cell_type": "code",
   "execution_count": null,
   "id": "afc7efe3",
   "metadata": {},
   "outputs": [],
   "source": [
    "corpus.size(0)"
   ]
  }
 ],
 "metadata": {
  "kernelspec": {
   "display_name": "Python 3 (ipykernel)",
   "language": "python",
   "name": "python3"
  },
  "language_info": {
   "codemirror_mode": {
    "name": "ipython",
    "version": 3
   },
   "file_extension": ".py",
   "mimetype": "text/x-python",
   "name": "python",
   "nbconvert_exporter": "python",
   "pygments_lexer": "ipython3",
   "version": "3.10.8"
  }
 },
 "nbformat": 4,
 "nbformat_minor": 5
}
