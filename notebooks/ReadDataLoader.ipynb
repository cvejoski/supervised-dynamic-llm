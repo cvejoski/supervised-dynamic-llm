{
 "cells": [
  {
   "cell_type": "code",
   "execution_count": 60,
   "id": "d4e08568",
   "metadata": {},
   "outputs": [],
   "source": [
    "import os\n",
    "import pickle\n",
    "import numpy as np\n",
    "import supervisedllm\n",
    "\n",
    "from supervisedllm import data_path\n",
    "from supervisedllm.data.dataloaders import TopicDataLoader\n",
    "from supervisedllm.models.baseline_models import NonSequentialRegression"
   ]
  },
  {
   "cell_type": "code",
   "execution_count": 66,
   "id": "7d8ba826",
   "metadata": {},
   "outputs": [
    {
     "data": {
      "text/plain": [
       "numpy.float32"
      ]
     },
     "execution_count": 66,
     "metadata": {},
     "output_type": "execute_result"
    }
   ],
   "source": [
    "np.single"
   ]
  },
  {
   "cell_type": "code",
   "execution_count": 6,
   "id": "570e040f",
   "metadata": {},
   "outputs": [
    {
     "data": {
      "text/plain": [
       "WindowsPath('C:/Users/cesar/Desktop/Projects/supervised-dynamic-llm/data')"
      ]
     },
     "execution_count": 6,
     "metadata": {},
     "output_type": "execute_result"
    }
   ],
   "source": [
    "data_path"
   ]
  },
  {
   "cell_type": "code",
   "execution_count": 40,
   "id": "8d2f2c13",
   "metadata": {},
   "outputs": [],
   "source": [
    "data_file = os.path.join(data_path,\"preprocessed\",\"arxiv\",\"test.pkl\")"
   ]
  },
  {
   "cell_type": "code",
   "execution_count": 44,
   "id": "11b0eec2",
   "metadata": {},
   "outputs": [
    {
     "data": {
      "text/plain": [
       "'C:\\\\Users\\\\cesar\\\\Desktop\\\\Projects\\\\supervised-dynamic-llm\\\\data\\\\preprocessed\\\\arxiv\\\\test.pkl'"
      ]
     },
     "execution_count": 44,
     "metadata": {},
     "output_type": "execute_result"
    }
   ],
   "source": [
    "data_file"
   ]
  },
  {
   "cell_type": "code",
   "execution_count": 49,
   "id": "c9906d7f",
   "metadata": {},
   "outputs": [],
   "source": [
    "data_ = pickle.load(open(data_file,\"rb\"))"
   ]
  },
  {
   "cell_type": "code",
   "execution_count": 55,
   "id": "cceca0d9",
   "metadata": {},
   "outputs": [
    {
     "data": {
      "text/plain": [
       "434"
      ]
     },
     "execution_count": 55,
     "metadata": {},
     "output_type": "execute_result"
    }
   ],
   "source": [
    "len(data_[\"time\"])"
   ]
  },
  {
   "cell_type": "code",
   "execution_count": 39,
   "id": "0eae3668",
   "metadata": {},
   "outputs": [
    {
     "data": {
      "text/plain": [
       "['data',\n",
       " 'prediction.pkl',\n",
       " 'test.pkl',\n",
       " 'time.pkl',\n",
       " 'train.pkl',\n",
       " 'validation.pkl',\n",
       " 'vocabulary.pkl']"
      ]
     },
     "execution_count": 39,
     "metadata": {},
     "output_type": "execute_result"
    }
   ],
   "source": [
    "os.listdir(data_file)"
   ]
  },
  {
   "cell_type": "code",
   "execution_count": 59,
   "id": "ad1c6910",
   "metadata": {
    "collapsed": true
   },
   "outputs": [
    {
     "ename": "AttributeError",
     "evalue": "module 'numpy' has no attribute 'float'",
     "output_type": "error",
     "traceback": [
      "\u001b[1;31m---------------------------------------------------------------------------\u001b[0m",
      "\u001b[1;31mAttributeError\u001b[0m                            Traceback (most recent call last)",
      "Cell \u001b[1;32mIn[59], line 3\u001b[0m\n\u001b[0;32m      1\u001b[0m data_dir \u001b[38;5;241m=\u001b[39m data_path \u001b[38;5;241m/\u001b[39m \u001b[38;5;124m\"\u001b[39m\u001b[38;5;124mpreprocessed\u001b[39m\u001b[38;5;124m\"\u001b[39m \u001b[38;5;241m/\u001b[39m \u001b[38;5;124m\"\u001b[39m\u001b[38;5;124mwallstreetsbets-score-weekly-medium\u001b[39m\u001b[38;5;124m\"\u001b[39m\n\u001b[0;32m      2\u001b[0m dataloader_params \u001b[38;5;241m=\u001b[39m {\u001b[38;5;124m\"\u001b[39m\u001b[38;5;124mroot_dir\u001b[39m\u001b[38;5;124m\"\u001b[39m: data_dir, \u001b[38;5;124m\"\u001b[39m\u001b[38;5;124mbatch_size\u001b[39m\u001b[38;5;124m\"\u001b[39m: \u001b[38;5;241m32\u001b[39m, \u001b[38;5;124m\"\u001b[39m\u001b[38;5;124mis_dynamic\u001b[39m\u001b[38;5;124m\"\u001b[39m:\u001b[38;5;28;01mTrue\u001b[39;00m}\n\u001b[1;32m----> 3\u001b[0m data_loader \u001b[38;5;241m=\u001b[39m TopicDataLoader(\u001b[38;5;124m\"\u001b[39m\u001b[38;5;124mcpu\u001b[39m\u001b[38;5;124m\"\u001b[39m, \u001b[38;5;241m*\u001b[39m\u001b[38;5;241m*\u001b[39mdataloader_params)\n",
      "File \u001b[1;32mc:\\users\\cesar\\desktop\\projects\\supervised-dynamic-llm\\src\\supervisedllm\\data\\dataloaders.py:203\u001b[0m, in \u001b[0;36mTopicDataLoader.__init__\u001b[1;34m(self, device, rank, world_size, **kwargs)\u001b[0m\n\u001b[0;32m    201\u001b[0m transformer_name \u001b[38;5;241m=\u001b[39m kwargs\u001b[38;5;241m.\u001b[39mget(\u001b[38;5;124m\"\u001b[39m\u001b[38;5;124mtransformer_name\u001b[39m\u001b[38;5;124m\"\u001b[39m, \u001b[38;5;28;01mNone\u001b[39;00m)\n\u001b[0;32m    202\u001b[0m tokenizer \u001b[38;5;241m=\u001b[39m \u001b[38;5;28mself\u001b[39m\u001b[38;5;241m.\u001b[39mget_transformer_tokenizer(transformer_name)\n\u001b[1;32m--> 203\u001b[0m train_dataset \u001b[38;5;241m=\u001b[39m \u001b[43mTopicDataset\u001b[49m\u001b[43m(\u001b[49m\n\u001b[0;32m    204\u001b[0m \u001b[43m    \u001b[49m\u001b[43mdata_dir\u001b[49m\u001b[43m,\u001b[49m\u001b[43m \u001b[49m\u001b[38;5;124;43m\"\u001b[39;49m\u001b[38;5;124;43mtrain\u001b[39;49m\u001b[38;5;124;43m\"\u001b[39;49m\u001b[43m,\u001b[49m\u001b[43m \u001b[49m\u001b[43mis_dynamic\u001b[49m\u001b[43m,\u001b[49m\u001b[43m \u001b[49m\u001b[43muse_covariates\u001b[49m\u001b[43m,\u001b[49m\u001b[43m \u001b[49m\u001b[43muse_tmp_covariates\u001b[49m\u001b[43m,\u001b[49m\u001b[43m \u001b[49m\u001b[43mnormalize\u001b[49m\u001b[43m,\u001b[49m\u001b[43m \u001b[49m\u001b[43mword_emb_type\u001b[49m\u001b[43m,\u001b[49m\u001b[43m \u001b[49m\u001b[43mtokenizer\u001b[49m\u001b[43m,\u001b[49m\u001b[43m \u001b[49m\u001b[43mreward_field\u001b[49m\n\u001b[0;32m    205\u001b[0m \u001b[43m\u001b[49m\u001b[43m)\u001b[49m\n\u001b[0;32m    206\u001b[0m valid_dataset \u001b[38;5;241m=\u001b[39m TopicDataset(\n\u001b[0;32m    207\u001b[0m     data_dir,\n\u001b[0;32m    208\u001b[0m     \u001b[38;5;124m\"\u001b[39m\u001b[38;5;124mvalidation\u001b[39m\u001b[38;5;124m\"\u001b[39m,\n\u001b[1;32m   (...)\u001b[0m\n\u001b[0;32m    215\u001b[0m     reward_field,\n\u001b[0;32m    216\u001b[0m )\n\u001b[0;32m    217\u001b[0m test_dataset \u001b[38;5;241m=\u001b[39m TopicDataset(\n\u001b[0;32m    218\u001b[0m     data_dir,\n\u001b[0;32m    219\u001b[0m     \u001b[38;5;124m\"\u001b[39m\u001b[38;5;124mtest\u001b[39m\u001b[38;5;124m\"\u001b[39m,\n\u001b[1;32m   (...)\u001b[0m\n\u001b[0;32m    226\u001b[0m     reward_field,\n\u001b[0;32m    227\u001b[0m )\n",
      "File \u001b[1;32mc:\\users\\cesar\\desktop\\projects\\supervised-dynamic-llm\\src\\supervisedllm\\data\\datasets.py:63\u001b[0m, in \u001b[0;36mTopicDataset.__init__\u001b[1;34m(self, path_to_data, ds_type, is_dynamic, use_covar, use_tmp_covariates, normalize_data, word_emb_type, tokenizer, reward_field)\u001b[0m\n\u001b[0;32m     61\u001b[0m \u001b[38;5;28;01mif\u001b[39;00m \u001b[38;5;124m\"\u001b[39m\u001b[38;5;124mreward_bin\u001b[39m\u001b[38;5;124m\"\u001b[39m \u001b[38;5;129;01min\u001b[39;00m \u001b[38;5;28mself\u001b[39m\u001b[38;5;241m.\u001b[39mdata\u001b[38;5;241m.\u001b[39mkeys():\n\u001b[0;32m     62\u001b[0m     \u001b[38;5;28mself\u001b[39m\u001b[38;5;241m.\u001b[39mreward_values \u001b[38;5;241m=\u001b[39m \u001b[38;5;28mset\u001b[39m(\u001b[38;5;28mself\u001b[39m\u001b[38;5;241m.\u001b[39mdata[\u001b[38;5;124m\"\u001b[39m\u001b[38;5;124mreward_bin\u001b[39m\u001b[38;5;124m\"\u001b[39m])\n\u001b[1;32m---> 63\u001b[0m     \u001b[38;5;28mself\u001b[39m\u001b[38;5;241m.\u001b[39mreward_per_time_period_avg \u001b[38;5;241m=\u001b[39m \u001b[38;5;28;43mself\u001b[39;49m\u001b[38;5;241;43m.\u001b[39;49m\u001b[43m__group_reward_per_time_period\u001b[49m\u001b[43m(\u001b[49m\u001b[43m)\u001b[49m\n\u001b[0;32m     64\u001b[0m     \u001b[38;5;28;01mif\u001b[39;00m has_covar:\n\u001b[0;32m     65\u001b[0m         \u001b[38;5;28;01mif\u001b[39;00m ds_type \u001b[38;5;241m!=\u001b[39m \u001b[38;5;124m\"\u001b[39m\u001b[38;5;124mtest\u001b[39m\u001b[38;5;124m\"\u001b[39m:\n",
      "File \u001b[1;32mc:\\users\\cesar\\desktop\\projects\\supervised-dynamic-llm\\src\\supervisedllm\\data\\datasets.py:260\u001b[0m, in \u001b[0;36mTopicDataset.__group_reward_per_time_period\u001b[1;34m(self)\u001b[0m\n\u001b[0;32m    257\u001b[0m     reward_per_year[d]\u001b[38;5;241m.\u001b[39mappend(rewards_one_hot[i])\n\u001b[0;32m    258\u001b[0m corpus_per_year_avg \u001b[38;5;241m=\u001b[39m [np\u001b[38;5;241m.\u001b[39mvstack(v)\u001b[38;5;241m.\u001b[39mmean(\u001b[38;5;241m0\u001b[39m) \u001b[38;5;28;01mfor\u001b[39;00m k, v \u001b[38;5;129;01min\u001b[39;00m \u001b[38;5;28msorted\u001b[39m(reward_per_year\u001b[38;5;241m.\u001b[39mitems())]\n\u001b[1;32m--> 260\u001b[0m \u001b[38;5;28;01mreturn\u001b[39;00m np\u001b[38;5;241m.\u001b[39masarray(corpus_per_year_avg, dtype\u001b[38;5;241m=\u001b[39m\u001b[43mnp\u001b[49m\u001b[38;5;241;43m.\u001b[39;49m\u001b[43mfloat\u001b[49m)\n",
      "File \u001b[1;32m~\\anaconda3\\envs\\supervised-llm\\lib\\site-packages\\numpy-1.24.0rc1-py3.10-win-amd64.egg\\numpy\\__init__.py:284\u001b[0m, in \u001b[0;36m__getattr__\u001b[1;34m(attr)\u001b[0m\n\u001b[0;32m    281\u001b[0m     \u001b[38;5;28;01mfrom\u001b[39;00m \u001b[38;5;21;01m.\u001b[39;00m\u001b[38;5;21;01mtesting\u001b[39;00m \u001b[38;5;28;01mimport\u001b[39;00m Tester\n\u001b[0;32m    282\u001b[0m     \u001b[38;5;28;01mreturn\u001b[39;00m Tester\n\u001b[1;32m--> 284\u001b[0m \u001b[38;5;28;01mraise\u001b[39;00m \u001b[38;5;167;01mAttributeError\u001b[39;00m(\u001b[38;5;124m\"\u001b[39m\u001b[38;5;124mmodule \u001b[39m\u001b[38;5;132;01m{!r}\u001b[39;00m\u001b[38;5;124m has no attribute \u001b[39m\u001b[38;5;124m\"\u001b[39m\n\u001b[0;32m    285\u001b[0m                      \u001b[38;5;124m\"\u001b[39m\u001b[38;5;132;01m{!r}\u001b[39;00m\u001b[38;5;124m\"\u001b[39m\u001b[38;5;241m.\u001b[39mformat(\u001b[38;5;18m__name__\u001b[39m, attr))\n",
      "\u001b[1;31mAttributeError\u001b[0m: module 'numpy' has no attribute 'float'"
     ]
    }
   ],
   "source": [
    "data_dir = data_path / \"preprocessed\" / \"wallstreetsbets-score-weekly-medium\"\n",
    "dataloader_params = {\"root_dir\": data_dir, \"batch_size\": 32, \"is_dynamic\":True}\n",
    "data_loader = TopicDataLoader(\"cpu\", **dataloader_params)"
   ]
  },
  {
   "cell_type": "code",
   "execution_count": 57,
   "id": "e79a2621",
   "metadata": {},
   "outputs": [],
   "source": [
    "databatch = next(data_loader.train.__iter__())"
   ]
  },
  {
   "cell_type": "code",
   "execution_count": 58,
   "id": "8f4d8a2b",
   "metadata": {},
   "outputs": [
    {
     "data": {
      "text/plain": [
       "dict_keys(['text', 'seq', 'seq_len', 'bow', 'reward', 'reward_bin'])"
      ]
     },
     "execution_count": 58,
     "metadata": {},
     "output_type": "execute_result"
    }
   ],
   "source": [
    "databatch.keys()"
   ]
  },
  {
   "cell_type": "code",
   "execution_count": 13,
   "id": "dce1c774",
   "metadata": {},
   "outputs": [
    {
     "data": {
      "text/plain": [
       "tensor([[0., 0., 0.,  ..., 0., 0., 0.],\n",
       "        [0., 0., 0.,  ..., 0., 0., 0.],\n",
       "        [0., 0., 0.,  ..., 0., 0., 0.],\n",
       "        ...,\n",
       "        [0., 0., 0.,  ..., 0., 0., 0.],\n",
       "        [0., 0., 0.,  ..., 0., 0., 0.],\n",
       "        [0., 0., 0.,  ..., 0., 0., 0.]])"
      ]
     },
     "execution_count": 13,
     "metadata": {},
     "output_type": "execute_result"
    }
   ],
   "source": [
    "databatch[\"bow\"]"
   ]
  },
  {
   "cell_type": "code",
   "execution_count": 14,
   "id": "f0e5aaf9",
   "metadata": {},
   "outputs": [
    {
     "data": {
      "text/plain": [
       "tensor([1., 1., 1., 1., 1., 1., 1., 1., 1., 1., 1., 1., 1., 1., 1., 1., 1., 1.,\n",
       "        1., 1., 1., 1., 1., 1., 1., 1., 1., 1., 1., 1., 1., 1.],\n",
       "       dtype=torch.float64)"
      ]
     },
     "execution_count": 14,
     "metadata": {},
     "output_type": "execute_result"
    }
   ],
   "source": [
    "databatch[\"text\"]"
   ]
  },
  {
   "cell_type": "code",
   "execution_count": 17,
   "id": "497a0171",
   "metadata": {},
   "outputs": [
    {
     "data": {
      "text/plain": [
       "tensor([[ 1378,  3351,   220,  ..., 10157, 10157, 10157],\n",
       "        [ 1433,  1959,  9199,  ..., 10157, 10157, 10157],\n",
       "        [ 1768,   795,  1839,  ..., 10157, 10157, 10157],\n",
       "        ...,\n",
       "        [  722,   487,  5875,  ..., 10157, 10157, 10157],\n",
       "        [ 1354,  4818,   672,  ..., 10157, 10157, 10157],\n",
       "        [  630,  1415,  1521,  ..., 10157, 10157, 10157]], dtype=torch.int32)"
      ]
     },
     "execution_count": 17,
     "metadata": {},
     "output_type": "execute_result"
    }
   ],
   "source": [
    "databatch[\"seq\"]"
   ]
  },
  {
   "cell_type": "code",
   "execution_count": 20,
   "id": "7cf0a1ad",
   "metadata": {},
   "outputs": [
    {
     "data": {
      "text/plain": [
       "tensor([0., 0., 1., 0., 0., 0., 1., 0., 0., 0., 0., 0., 1., 1., 0., 0., 0., 1.,\n",
       "        0., 0., 0., 0., 0., 0., 1., 1., 0., 1., 0., 0., 0., 0.],\n",
       "       dtype=torch.float64)"
      ]
     },
     "execution_count": 20,
     "metadata": {},
     "output_type": "execute_result"
    }
   ],
   "source": [
    "databatch[\"reward\"]"
   ]
  },
  {
   "cell_type": "code",
   "execution_count": null,
   "id": "2d123275",
   "metadata": {},
   "outputs": [],
   "source": [
    "# MODEL"
   ]
  },
  {
   "cell_type": "code",
   "execution_count": 22,
   "id": "3a37752f",
   "metadata": {},
   "outputs": [],
   "source": [
    "model_parameters = NonSequentialRegression.get_parameters(data_loader)\n",
    "model = NonSequentialRegression(**model_parameters)"
   ]
  },
  {
   "cell_type": "code",
   "execution_count": 23,
   "id": "7486cd84",
   "metadata": {},
   "outputs": [
    {
     "data": {
      "text/plain": [
       "{'vocabulary_dim': 2000,\n",
       " 'dropout': 0.1,\n",
       " 'output_layers_dim': [10, 10],\n",
       " 'bow_layers_dim': [10, 10],\n",
       " 'cov_layers_dim': [10, 10],\n",
       " 'bow_emb_dim': 50,\n",
       " 'cov_emb_dim': 50,\n",
       " 'output_dim': 1,\n",
       " 'output_transformation': 'relu',\n",
       " 'word_emb_type': 'bow',\n",
       " 'covariates_dim': 0,\n",
       " 'regression_dist': 'exp'}"
      ]
     },
     "execution_count": 23,
     "metadata": {},
     "output_type": "execute_result"
    }
   ],
   "source": [
    "model_parameters"
   ]
  }
 ],
 "metadata": {
  "kernelspec": {
   "display_name": "Python 3 (ipykernel)",
   "language": "python",
   "name": "python3"
  },
  "language_info": {
   "codemirror_mode": {
    "name": "ipython",
    "version": 3
   },
   "file_extension": ".py",
   "mimetype": "text/x-python",
   "name": "python",
   "nbconvert_exporter": "python",
   "pygments_lexer": "ipython3",
   "version": "3.10.8"
  }
 },
 "nbformat": 4,
 "nbformat_minor": 5
}
